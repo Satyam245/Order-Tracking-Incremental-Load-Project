{
 "cells": [
  {
   "cell_type": "code",
   "execution_count": 0,
   "metadata": {
    "application/vnd.databricks.v1+cell": {
     "cellMetadata": {},
     "inputWidgets": {},
     "nuid": "d2a69afc-f219-40ee-8c78-e064eafca8af",
     "showTitle": false,
     "title": ""
    }
   },
   "outputs": [],
   "source": [
    "from pyspark.sql import SparkSession\n",
    "from delta.tables import *\n",
    "\n",
    "# Initialize Spark Session\n",
    "spark = SparkSession.builder.appName(\"Upsert into Target Delta Table\").getOrCreate()\n",
    "\n",
    "# Paths for the staging and target Delta tables\n",
    "staging_table_path = \"dbfs:/user/hive/warehouse/staging_order_tracking\"\n",
    "target_table_path = \"dbfs:/user/hive/warehouse/target_order_tracking\"\n",
    "\n",
    "# Read from the staging Delta table\n",
    "staging_df = spark.read.format(\"delta\").load(staging_table_path)\n",
    "staging_df.show()\n",
    "print(\"Data read from staging table completed\")\n",
    "\n",
    "# Check if the target Delta table exists, create it if not\n",
    "if not DeltaTable.isDeltaTable(spark, target_table_path):\n",
    "    staging_df.write.format(\"delta\").save(target_table_path)\n",
    "\n",
    "# Create DeltaTable object for the target table\n",
    "target_delta_table = DeltaTable.forPath(spark, target_table_path)\n",
    "\n",
    "# Perform upsert from staging to target table using tracking_num as key\n",
    "target_delta_table.alias(\"target\").merge(\n",
    "    staging_df.alias(\"staging\"),\n",
    "    \"target.tracking_num = staging.tracking_num\"\n",
    ").whenMatchedUpdateAll().whenNotMatchedInsertAll().execute()\n",
    "\n",
    "print(\"Data upserted in target table\")\n",
    "\n",
    "# Register the target table in the Hive Metastore (Optional)\n",
    "spark.sql(f\"CREATE TABLE IF NOT EXISTS target_order_tracking USING DELTA LOCATION '{target_table_path}'\")"
   ]
  }
 ],
 "metadata": {
  "application/vnd.databricks.v1+notebook": {
   "dashboards": [],
   "language": "python",
   "notebookMetadata": {
    "pythonIndentUnit": 4
   },
   "notebookName": "target_tracking_processing",
   "widgets": {}
  },
  "kernelspec": {
   "display_name": "Python 3 (ipykernel)",
   "language": "python",
   "name": "python3"
  },
  "language_info": {
   "codemirror_mode": {
    "name": "ipython",
    "version": 3
   },
   "file_extension": ".py",
   "mimetype": "text/x-python",
   "name": "python",
   "nbconvert_exporter": "python",
   "pygments_lexer": "ipython3",
   "version": "3.9.13"
  }
 },
 "nbformat": 4,
 "nbformat_minor": 1
}
